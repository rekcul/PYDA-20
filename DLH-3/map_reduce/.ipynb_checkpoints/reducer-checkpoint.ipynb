{
 "cells": [
  {
   "cell_type": "code",
   "execution_count": 1,
   "metadata": {},
   "outputs": [],
   "source": [
    "import sys\n",
    "import numpy as np"
   ]
  },
  {
   "cell_type": "code",
   "execution_count": null,
   "metadata": {},
   "outputs": [],
   "source": [
    "prev_word = None\n",
    "counter = 0\n",
    "\n",
    "for line in sys.stdin:\n",
    "    word, one = line.strip().split(' ') \n",
    "    one = int(one)\n",
    "\n",
    "    if prev_word:\n",
    "        if prev_word == word:\n",
    "            counter += one\n",
    "        else:\n",
    "            print(prev_word, counter)\n",
    "            prev_word = word\n",
    "            counter = one\n",
    "    else:\n",
    "        prev_word = word\n",
    "        counter = one\n",
    "\n",
    "print(prev_word, counter)"
   ]
  }
 ],
 "metadata": {
  "kernelspec": {
   "display_name": "Python 3",
   "language": "python",
   "name": "python3"
  },
  "language_info": {
   "codemirror_mode": {
    "name": "ipython",
    "version": 3
   },
   "file_extension": ".py",
   "mimetype": "text/x-python",
   "name": "python",
   "nbconvert_exporter": "python",
   "pygments_lexer": "ipython3",
   "version": "3.8.5"
  }
 },
 "nbformat": 4,
 "nbformat_minor": 4
}
