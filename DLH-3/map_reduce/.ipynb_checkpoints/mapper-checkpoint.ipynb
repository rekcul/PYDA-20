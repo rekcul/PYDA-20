{
 "cells": [
  {
   "cell_type": "code",
   "execution_count": null,
   "metadata": {},
   "outputs": [],
   "source": [
    "import sys\n",
    "import numpy as np\n",
    "\n",
    "#list of keywords\n",
    "keywords=[]\n",
    "for line in sys.stdin:\n",
    "    keyword = line.strip().split(',')[:-1]\n",
    "    keywords.append(keyword)\n",
    "\n",
    "flat_list_of_keywords = np.array(keywords).flatten()\n",
    "\n",
    "#list of words\n",
    "words = []\n",
    "for i in flat_list_of_keywords:\n",
    "        word = i.strip().split(' ')\n",
    "        words.append(word)\n",
    "        \n",
    "list_of_words = np.array(words).flatten()\n",
    "flat_list_of_words = [word for sublist in list_of_words for word in sublist]\n",
    "\n",
    "\n",
    "# stdout\n",
    "for i in flat_list_of_words:\n",
    "    print(i, '1')"
   ]
  }
 ],
 "metadata": {
  "kernelspec": {
   "display_name": "Python 3",
   "language": "python",
   "name": "python3"
  },
  "language_info": {
   "codemirror_mode": {
    "name": "ipython",
    "version": 3
   },
   "file_extension": ".py",
   "mimetype": "text/x-python",
   "name": "python",
   "nbconvert_exporter": "python",
   "pygments_lexer": "ipython3",
   "version": "3.8.5"
  }
 },
 "nbformat": 4,
 "nbformat_minor": 4
}
